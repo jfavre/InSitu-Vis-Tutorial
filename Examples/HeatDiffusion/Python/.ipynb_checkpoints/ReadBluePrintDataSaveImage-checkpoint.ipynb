{
 "cells": [
  {
   "cell_type": "code",
   "execution_count": 1,
   "id": "550a3f6b-3653-446a-9e02-fe6195e456d9",
   "metadata": {},
   "outputs": [
    {
     "name": "stderr",
     "output_type": "stream",
     "text": [
      "PySide2/__init__.py: Unable to import shiboken2 from /home/jfavre, /local/apps/VisIt/3.2.2/current/linux-x86_64/lib, , /local/apps/VisIt/3.2.2/current/linux-x86_64/lib/site-packages, /usr/lib/python39.zip, /usr/lib/python3.9, /usr/lib/python3.9/lib-dynload, /home/jfavre/.local/lib/python3.9/site-packages, /home/jfavre/Projects/ipyparaview, /usr/local/lib/python3.9/dist-packages, /usr/lib/python3/dist-packages, /usr/lib/python3.9/dist-packages\n",
      "PySide2/__init__.py: Unable to import shiboken2 from /home/jfavre, /local/apps/VisIt/3.2.2/current/linux-x86_64/lib, , /local/apps/VisIt/3.2.2/current/linux-x86_64/lib/site-packages, /usr/lib/python39.zip, /usr/lib/python3.9, /usr/lib/python3.9/lib-dynload, /home/jfavre/.local/lib/python3.9/site-packages, /home/jfavre/Projects/ipyparaview, /usr/local/lib/python3.9/dist-packages, /usr/lib/python3/dist-packages, /usr/lib/python3.9/dist-packages\n",
      "PySide2/__init__.py: Unable to import shiboken2 from /home/jfavre, /local/apps/VisIt/3.2.2/current/linux-x86_64/lib, , /local/apps/VisIt/3.2.2/current/linux-x86_64/lib/site-packages, /usr/lib/python39.zip, /usr/lib/python3.9, /usr/lib/python3.9/lib-dynload, /home/jfavre/.local/lib/python3.9/site-packages, /home/jfavre/Projects/ipyparaview, /usr/local/lib/python3.9/dist-packages, /usr/lib/python3/dist-packages, /usr/lib/python3.9/dist-packages\n",
      "Running: viewer3.2.2 -nowin -noint -host 127.0.0.1 -port 5600\n"
     ]
    },
    {
     "data": {
      "text/plain": [
       "True"
      ]
     },
     "execution_count": 1,
     "metadata": {},
     "output_type": "execute_result"
    }
   ],
   "source": [
    "from visit import *\n",
    "LaunchNowin()"
   ]
  },
  {
   "cell_type": "code",
   "execution_count": 2,
   "id": "f96b0cf3-f567-4857-a99d-d0b2c421945d",
   "metadata": {},
   "outputs": [
    {
     "name": "stderr",
     "output_type": "stream",
     "text": [
      "Running: mdserver3.2.2 -host 127.0.0.1 -port 5601\n",
      "Running: engine_ser3.2.2 -host 127.0.0.1 -port 5601\n",
      "VisIt: Warning - Although VisIt typically saves out files sequentially, some numbers are being skipped when saving out this file to avoid overwriting previous saves.\n",
      "VisIt: Message - Rendering window 1...\n",
      "VisIt: Message - Saving window 1...\n",
      "VisIt: Message - Saved visit0001.png\n"
     ]
    },
    {
     "data": {
      "text/plain": [
       "'visit0001.png'"
      ]
     },
     "execution_count": 2,
     "metadata": {},
     "output_type": "execute_result"
    }
   ],
   "source": [
    "OpenDatabase(\"localhost:/mnt/data/mesh.cycle_000500.root\")\n",
    "AddPlot(\"Mesh\", \"mesh_mesh\", 0, 0)\n",
    "\n",
    "# Create plot 2\n",
    "OpenDatabase(\"localhost:/mnt/data/mesh.cycle_000500.root\")\n",
    "AddPlot(\"Pseudocolor\", \"mesh_mesh/temperature\", 0, 0)\n",
    "\n",
    "SetActivePlots(1)\n",
    "\n",
    "DrawPlots()\n",
    "\n",
    "# Set the view\n",
    "view = View2DAttributes()\n",
    "view.windowCoords = (0, 1, 0, 1)\n",
    "view.viewportCoords = (0.2, 0.95, 0.15, 0.95)\n",
    "view.fullFrameActivationMode = view.Auto  # On, Off, Auto\n",
    "view.fullFrameAutoThreshold = 100\n",
    "view.xScale = view.LINEAR  # LINEAR, LOG\n",
    "view.yScale = view.LINEAR  # LINEAR, LOG\n",
    "view.windowValid = 1\n",
    "SetView2D(view)\n",
    "\n",
    "SaveWindow()"
   ]
  },
  {
   "cell_type": "code",
   "execution_count": null,
   "id": "18aa9c1c-668d-4bdd-91d3-66c3b6018f69",
   "metadata": {},
   "outputs": [],
   "source": []
  }
 ],
 "metadata": {
  "kernelspec": {
   "display_name": "Python 3 (ipykernel)",
   "language": "python",
   "name": "python3"
  },
  "language_info": {
   "codemirror_mode": {
    "name": "ipython",
    "version": 3
   },
   "file_extension": ".py",
   "mimetype": "text/x-python",
   "name": "python",
   "nbconvert_exporter": "python",
   "pygments_lexer": "ipython3",
   "version": "3.9.7"
  }
 },
 "nbformat": 4,
 "nbformat_minor": 5
}
