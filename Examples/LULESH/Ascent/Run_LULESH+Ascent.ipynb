{
 "cells": [
  {
   "cell_type": "code",
   "execution_count": null,
   "id": "aa6361bc-c30a-45df-b89b-eaf8cfba9162",
   "metadata": {},
   "outputs": [],
   "source": [
    "!rm $SCRATCH/Lulesh/velocity*png\n",
    "!rm slurm*.out\n",
    "!sbatch -A`id -gn` run_lulesh_Ascent.sh"
   ]
  },
  {
   "cell_type": "code",
   "execution_count": null,
   "id": "b6a0031f-733a-4ee2-aad0-d6bf5da76b9d",
   "metadata": {},
   "outputs": [],
   "source": [
    "import ascent\n",
    "import glob"
   ]
  },
  {
   "cell_type": "code",
   "execution_count": null,
   "id": "2c906466-d451-42f3-9373-ad06d00cb44c",
   "metadata": {},
   "outputs": [],
   "source": [
    "# enumerate our result renders\n",
    "result_image_files = glob.glob(\"/scratch/snx3000/jfavre/Lulesh/velocity*png\")\n",
    "result_image_files.sort()\n",
    "ascent.jupyter.AscentImageSequenceViewer(result_image_files).show()"
   ]
  },
  {
   "cell_type": "code",
   "execution_count": null,
   "id": "20d0adec-f309-49a7-9164-b515235b2df4",
   "metadata": {},
   "outputs": [],
   "source": []
  }
 ],
 "metadata": {
  "kernelspec": {
   "display_name": "CSCS Python",
   "language": "python",
   "name": "cscs"
  },
  "language_info": {
   "codemirror_mode": {
    "name": "ipython",
    "version": 3
   },
   "file_extension": ".py",
   "mimetype": "text/x-python",
   "name": "python",
   "nbconvert_exporter": "python",
   "pygments_lexer": "ipython3",
   "version": "3.9.4"
  }
 },
 "nbformat": 4,
 "nbformat_minor": 5
}
