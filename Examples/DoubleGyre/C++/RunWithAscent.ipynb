{
 "cells": [
  {
   "cell_type": "code",
   "execution_count": null,
   "id": "a2676701-630c-465d-b9a4-b16dc2ba7f0c",
   "metadata": {},
   "outputs": [],
   "source": [
    "!./cleanup.sh"
   ]
  },
  {
   "cell_type": "code",
   "execution_count": null,
   "id": "7aefac6c-ce73-405e-a9f3-93a10fba9c42",
   "metadata": {},
   "outputs": [],
   "source": [
    "!cmake -S . -B buildAscent -DINSITU=Ascent &> /dev/null"
   ]
  },
  {
   "cell_type": "code",
   "execution_count": null,
   "id": "3d40caf1-0c82-4401-aea3-40b4cd4c07da",
   "metadata": {},
   "outputs": [],
   "source": [
    "!cmake --build buildAscent"
   ]
  },
  {
   "cell_type": "code",
   "execution_count": null,
   "id": "eb308d7d-f426-44b9-ba97-c708ad0a9f8a",
   "metadata": {},
   "outputs": [],
   "source": [
    "!sbatch run_ascent.sh"
   ]
  },
  {
   "cell_type": "code",
   "execution_count": null,
   "id": "d68e83c8-d5ca-41df-bab2-4b35925a22e5",
   "metadata": {},
   "outputs": [],
   "source": [
    "# list all images which have been rendered to disk\n",
    "from ascent.jupyter import AscentImageSequenceViewer\n",
    "import glob\n",
    "image_files = glob.glob(\"*png\")\n",
    "image_files.sort()\n",
    "AscentImageSequenceViewer(image_files).show()"
   ]
  },
  {
   "cell_type": "code",
   "execution_count": null,
   "id": "e352d003-333c-4e90-97ac-08e4b52ee57c",
   "metadata": {},
   "outputs": [],
   "source": []
  }
 ],
 "metadata": {
  "kernelspec": {
   "display_name": "CSCS Python",
   "language": "python",
   "name": "cscs"
  },
  "language_info": {
   "codemirror_mode": {
    "name": "ipython",
    "version": 3
   },
   "file_extension": ".py",
   "mimetype": "text/x-python",
   "name": "python",
   "nbconvert_exporter": "python",
   "pygments_lexer": "ipython3",
   "version": "3.9.4"
  }
 },
 "nbformat": 4,
 "nbformat_minor": 5
}
