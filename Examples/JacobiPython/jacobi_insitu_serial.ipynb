{
 "cells": [
  {
   "cell_type": "markdown",
   "id": "020bf747-ba0f-4070-af38-47d58f0e012b",
   "metadata": {},
   "source": [
    "A simple simulator for the heat equation in 2D\n",
    "\n",
    "Author: Jean M. Favre, Swiss National Supercomputing Center\n",
    "\n",
    "First version runs until completion and makes a matplotlib figure of the\n",
    "final scalar field\n",
    "\n",
    "Tested on Piz Daint, Wed Apr 27 08:43:26 AM CEST 2022"
   ]
  },
  {
   "cell_type": "code",
   "execution_count": null,
   "id": "147c1ff1-c58b-4fdb-b2ed-0b444667d251",
   "metadata": {},
   "outputs": [],
   "source": [
    "import sys, math\n",
    "import numpy as np\n",
    "import matplotlib\n",
    "\n",
    "import matplotlib.pyplot as plt"
   ]
  },
  {
   "cell_type": "code",
   "execution_count": null,
   "id": "15600943-8190-440e-b200-9f3854a90e57",
   "metadata": {},
   "outputs": [],
   "source": [
    "class Simulation:\n",
    "    \"\"\"\n",
    "    A simple 4-point stencil simulation for the heat equation\n",
    "    \n",
    "    Attributes\n",
    "    ----------\n",
    "    resolution : int\n",
    "        the number of grid points on the I and J axis (default 64)\n",
    "    iterations : int\n",
    "        the maximum number of iterations (default 100)\n",
    "    \"\"\"\n",
    "\n",
    "    def __init__(self, resolution=64, iterations=100):\n",
    "        self.iteration = 0 # current iteration\n",
    "        self.Max_iterations = iterations\n",
    "        self.xres = resolution\n",
    "        self.yres = self.xres\n",
    "        self.dx = 1.0 / (self.xres + 1)\n",
    "\n",
    "    def Initialize(self):\n",
    "        \"\"\" 2 additional boundary points are added. Iterations will only touch\n",
    "        the internal grid points.\n",
    "        \"\"\"\n",
    "        self.rmesh_dims = [self.yres + 2, self.xres + 2]\n",
    "        #print(\"grid dimensions = \", self.rmesh_dims)\n",
    "        self.v = np.zeros(self.rmesh_dims)\n",
    "        self.vnew = np.zeros([self.yres, self.xres])\n",
    "        self.set_initial_bc()\n",
    "\n",
    "    def set_initial_bc(self):\n",
    "        \"\"\" initial values set to 0 except on bottom and top wall \"\"\"\n",
    "        #first (bottom) row\n",
    "        self.v[0,:] = [math.sin(math.pi * j * self.dx)\n",
    "                       for j in range(self.rmesh_dims[1])]\n",
    "        #last (top) row\n",
    "        self.v[-1,:] = self.v[0,:]* math.exp(-math.pi)\n",
    "\n",
    "    def Finalize(self):\n",
    "        \"\"\"plot the scalar field iso-contour lines\"\"\"\n",
    "        fig, ax = plt.subplots()\n",
    "        CS = ax.contour(self.v, levels=10)\n",
    "        ax.clabel(CS, inline=True, fontsize=10)\n",
    "        ax.set_title('Temperature iso-contours')\n",
    "        plt.show()\n",
    "        \n",
    "    def SimulateOneTimestep(self):\n",
    "        self.iteration += 1\n",
    "        # print(\"Simulating time step: iteration=%d\" % self.iteration)\n",
    "\n",
    "        self.vnew = 0.25 * ( self.v[2:, 1:-1]  + # north neighbor\n",
    "                             self.v[0:-2, 1:-1] + # south neighbor\n",
    "                             self.v[1:-1, 2:] + # east neighbor\n",
    "                             self.v[1:-1, :-2]) # west neighbor\n",
    "        # copy vnew to the interior region of v, leaving the boundary walls untouched.\n",
    "        self.v[1:-1,1:-1] = self.vnew.copy()\n",
    "\n",
    "    def MainLoop(self):\n",
    "      while self.iteration < self.Max_iterations:\n",
    "        self.SimulateOneTimestep()"
   ]
  },
  {
   "cell_type": "code",
   "execution_count": null,
   "id": "dbb1cab7-74f9-48f6-af6e-1c8ac1887611",
   "metadata": {},
   "outputs": [],
   "source": [
    "def main():\n",
    "    sim = Simulation(resolution=64, iterations=500)\n",
    "    sim.Initialize()\n",
    "    sim.MainLoop()\n",
    "    sim.Finalize()\n",
    "    \n",
    "main()"
   ]
  }
 ],
 "metadata": {
  "kernelspec": {
   "display_name": "Python 3 (ipykernel)",
   "language": "python",
   "name": "python3"
  },
  "language_info": {
   "codemirror_mode": {
    "name": "ipython",
    "version": 3
   },
   "file_extension": ".py",
   "mimetype": "text/x-python",
   "name": "python",
   "nbconvert_exporter": "python",
   "pygments_lexer": "ipython3",
   "version": "3.9.4"
  }
 },
 "nbformat": 4,
 "nbformat_minor": 5
}
