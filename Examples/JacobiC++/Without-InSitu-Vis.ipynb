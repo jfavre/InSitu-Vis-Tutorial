{
 "cells": [
  {
   "cell_type": "markdown",
   "id": "9a161fb7-6eaa-41c6-9097-9bd0df053d79",
   "metadata": {},
   "source": [
    "Compile and Run as a standalone executable\n",
    "\n",
    "Tested Thu Apr 20 05:43:19 PM CEST 2023"
   ]
  },
  {
   "cell_type": "code",
   "execution_count": null,
   "id": "bed2107d-7ad0-4c38-9edf-8a7153df8d72",
   "metadata": {},
   "outputs": [],
   "source": [
    "!./cleanup.sh"
   ]
  },
  {
   "cell_type": "code",
   "execution_count": null,
   "id": "23c7039f-1449-40b0-a928-766c4f39708d",
   "metadata": {},
   "outputs": [],
   "source": [
    "!cmake -S . -B build"
   ]
  },
  {
   "cell_type": "code",
   "execution_count": null,
   "id": "480a19b0-2a32-4fe4-a0b4-210a2003665b",
   "metadata": {},
   "outputs": [],
   "source": [
    "!cmake --build build"
   ]
  },
  {
   "cell_type": "code",
   "execution_count": null,
   "id": "69c4ef00-a691-4ab6-a38a-a7c392dc2adf",
   "metadata": {},
   "outputs": [],
   "source": [
    "!srun -n 4 ./build/bin/pjacobi --mesh=uniform --res=64"
   ]
  },
  {
   "cell_type": "code",
   "execution_count": null,
   "id": "1a2e3d1f-ea0b-4d00-9342-61d3667f37c9",
   "metadata": {},
   "outputs": [],
   "source": [
    "%matplotlib inline"
   ]
  },
  {
   "cell_type": "code",
   "execution_count": null,
   "id": "2def70a2-b6fd-4640-88aa-e59f5ea34eb9",
   "metadata": {},
   "outputs": [],
   "source": [
    "import numpy as np\n",
    "import pylab as pl\n",
    "# change filename below as appropriate\n",
    "headerFilename =  \"./Jacobi.bov\"\n",
    "headerfile = open(headerFilename, \"r\")\n",
    "header = headerfile.readlines()\n",
    "headerfile.close()\n",
    "\n",
    "rawFilename = header[1].split()[1]\n",
    "\n",
    "res_x, res_y = [int(x) for x in header[2].strip().split()[1:3]]\n",
    "print('xdim %s' % res_x)\n",
    "print('ydim %s' % res_y)\n",
    "\n",
    "data = np.fromfile(rawFilename, dtype=np.double, count=res_x*res_y, sep='')\n",
    "#assert data.shape[0] == res_x * res_y, \"raw data array does not match the resolution in the header\"\n",
    "\n",
    "x = np.linspace(0., 1., res_x)\n",
    "y = np.linspace(0., 1.*res_y/res_x, res_y)\n",
    "X, Y = np.meshgrid(x, y)\n",
    "\n",
    "# number of contours we wish to see\n",
    "V = [-0.01, 0.1, 0.2, 0.3, 0.4, 0.5, 0.6, 0.7, 0.8, 0.9, 1.01]\n",
    "pl.axes().set_aspect('equal')\n",
    "pl.contourf(X, Y, data.reshape(res_y, res_x), V, alpha=.75, cmap='jet')\n",
    "pl.contour(X, Y, data.reshape(res_y, res_x), V, colors='black')\n",
    "\n",
    "pl.savefig(\"output.png\", dpi=72)\n",
    "pl.show()"
   ]
  },
  {
   "cell_type": "code",
   "execution_count": null,
   "id": "b64abf5c-8212-4ed9-9f03-9d480a2b340c",
   "metadata": {},
   "outputs": [],
   "source": []
  }
 ],
 "metadata": {
  "kernelspec": {
   "display_name": "CSCS Python",
   "language": "python",
   "name": "cscs"
  },
  "language_info": {
   "codemirror_mode": {
    "name": "ipython",
    "version": 3
   },
   "file_extension": ".py",
   "mimetype": "text/x-python",
   "name": "python",
   "nbconvert_exporter": "python",
   "pygments_lexer": "ipython3",
   "version": "3.9.4"
  }
 },
 "nbformat": 4,
 "nbformat_minor": 5
}
